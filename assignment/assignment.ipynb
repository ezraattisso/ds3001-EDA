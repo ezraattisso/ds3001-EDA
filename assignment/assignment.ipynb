{
  "cells": [
    {
      "cell_type": "markdown",
      "metadata": {
        "id": "fTh56enTsqbL"
      },
      "source": [
        "# Assignment: Exploratory Data Analysis\n",
        "### `! git clone https://github.com/ds4e/EDA`\n",
        "### Do Q1 and two other questions."
      ]
    },
    {
      "cell_type": "markdown",
      "metadata": {
        "id": "314uXGzWsqbM"
      },
      "source": [
        "**Q1.** In class, we talked about how to compute the sample mean of a variable $X$,\n",
        "$$\n",
        "m(X) = \\dfrac{1}{N} \\sum_{i=1}^N x_i\n",
        "$$\n",
        "and sample covariance of two variables $X$ and $Y$,\n",
        "$$\n",
        "\\text{cov}(X,Y) = \\dfrac{1}{N} \\sum_{i=1}^N (x_i - m(X))(y_i - m(Y))).\n",
        "$$\n",
        "Recall, the sample variance of $X$ is\n",
        "$$\n",
        "s^2 = \\dfrac{1}{N} \\sum_{i=1}^N (x_i - m(X))^2.\n",
        "$$\n",
        "It can be very helpful to understand some basic properties of these statistics. If you want to write your calculations on a piece of paper, take a photo, and upload that to your GitHub repo, that's probably easiest.\n",
        "\n",
        "1. Show that $m(a + bX) = a+b \\times m(X)$.\n",
        "2. Show that $\\text{cov}(X,a+bY) = b \\times \\text{cov}(X,Y)$\n",
        "3. Show that $\\text{cov}(a+bX,a+bX) = b^2 \\text{cov}(X,X) $, and in particular that $\\text{cov}(X,X) = s^2 $.\n",
        "4. Instead of the mean, consider the median. Consider transformations that are non-decreasing (if $x\\ge x'$, then $g(x)\\ge g(x')$), like $2+5 \\times X$ or $\\text{arcsinh}(X)$. Is a non-decreasing transformation of the median the median of the transformed variable? Explain. Does your answer apply to any quantile? The IQR? The range?\n",
        "5. Consider a non-decreasing transformation $g()$. Is is always true that $m(g(X))= g(m(X))$?"
      ]
    },
    {
      "cell_type": "markdown",
      "metadata": {
        "id": "hK9_aaaYsqbN"
      },
      "source": [
        "**Q2.** This question looks at financial transfers from foreign entities to American universities. In particular, from which countries and giftors are the gifts coming from, and to which institutions are they going? For this question, `.groupby([vars]).count()` and `.groupby([vars]).sum()` will be especially useful to tally the number of occurrences and sum the values of those occurrences.\n",
        "\n",
        "1. Load the `./data/ForeignGifts_edu.csv` dataset.\n",
        "2. For `Foreign Gift Amount`, create a histogram and describe the variable. Describe your findings.\n",
        "3. For `Gift Type`, create a histogram or value counts table. What proportion of the gifts are contracts, real estate, and monetary gifts?\n",
        "4. Create a kernel density plot of the log of `Foreign Gift Amount`, and then a kernel density plot of the log of `Foreign Gift Amount` conditional on gift type. Do you notice any patterns?\n",
        "5. What are the top 15 countries in terms of the number of gifts? What are the top 15 countries in terms of the amount given?\n",
        "6. What are the top 15 institutions in terms of the total amount of money they receive? Make a histogram of the total amount received by all institutions.\n",
        "7. Which giftors provide the most money, in total?"
      ]
    },
    {
      "cell_type": "markdown",
      "metadata": {
        "id": "MHdkm8cXsqbN"
      },
      "source": [
        "**Q3.** This question uses the Airbnb data to practice making visualizations.\n",
        "\n",
        "  1. Load the `./data/airbnb_hw.csv` data with Pandas. This provides a dataset of AirBnB rental properties for New York City.  \n",
        "  2. What are are the dimensions of the data? How many observations are there? What are the variables included? Use `.head()` to examine the first few rows of data.\n",
        "  3. Cross tabulate `Room Type` and `Property Type`. What patterns do you see in what kinds of rentals are available? For which kinds of properties are private rooms more common than renting the entire property?\n",
        "  4. For `Price`, make a histogram, kernel density, box plot, and a statistical description of the variable. Are the data badly scaled? Are there many outliers? Use `log` to transform price into a new variable, `price_log`, and take these steps again.\n",
        "  5. Make a scatterplot of `price_log` and `Beds`. Describe what you see. Use `.groupby()` to compute a desciption of `Price` conditional on/grouped by the number of beds. Describe any patterns you see in the average price and standard deviation in prices.\n",
        "  6. Make a scatterplot of `price_log` and `Beds`, but color the graph by `Room Type` and `Property Type`. What patterns do you see? Compute a description of `Price` conditional on `Room Type` and `Property Type`. Which Room Type and Property Type have the highest prices on average? Which have the highest standard deviation? Does the mean or median appear to be a more reliable estimate of central tendency, and explain why?\n",
        "  7. We've looked a bit at this `price_log` and `Beds` scatterplot. Use seaborn to make a `jointplot` with `kind=hex`. Where are the data actually distributed? How does it affect the way you think about the plots in 5 and 6?"
      ]
    },
    {
      "cell_type": "code",
      "source": [
        "import numpy as np # Import the numpy package into your workspace\n",
        "import matplotlib.pyplot as plt # Import matplotlib into your workspace\n",
        "import pandas as pd  # Import the pandas package into your workspace\n",
        "\n",
        "\n",
        "\n",
        "\n",
        "## Q3.1\n",
        "\n",
        "url = \"https://raw.githubusercontent.com/ezraattisso/ds3001-EDA/refs/heads/main/assignment/data/airbnb_hw.csv\"\n",
        "\n",
        "bnb_df = pd.read_csv(url,low_memory=False)\n",
        "\n",
        "# Convert the 'Price' column to numeric, handling errors\n",
        "bnb_df['Price'] = pd.to_numeric(bnb_df['Price'], errors='coerce')\n",
        "\n",
        "# Drop rows with missing 'Price' values after conversion\n",
        "bnb_df = bnb_df.dropna(subset=['Price'])\n",
        "\n",
        "## Q3.2\n",
        "\n",
        "bnb_df.head()\n",
        "\n",
        "## Q3.3\n",
        "\n",
        "cross_tab = pd.crosstab(bnb_df['Room Type'], bnb_df['Property Type'])\n",
        "\n",
        "cross_tab.head()\n",
        "\n",
        "## Q3.4\n",
        "\n",
        "\n",
        "# this is the density plot.\n",
        "\n",
        "plt.hist(bnb_df['Price'], bins = 5, edgecolor='black')\n",
        "plt.ylabel('Price')\n",
        "plt.title('Price')\n",
        "plt.show()\n",
        "\n",
        "\n",
        "# this is the kernel plot.\n",
        "\n",
        "bnb_df['Price'].plot(kind='density', linewidth=2)\n",
        "plt.ylabel('Price')\n",
        "plt.title('Kernel Plot')\n",
        "\n",
        "plt.show()\n",
        "\n",
        "# this is the boxplot.\n",
        "\n",
        "bnb_df['Price'].plot(kind='box')\n",
        "\n",
        "plt.title('Box Plot')\n",
        "plt.show()\n",
        "\n",
        "stats = bnb_df['Price'].describe()\n",
        "print(stats)\n"
      ],
      "metadata": {
        "id": "RGTK9eMythZi"
      },
      "execution_count": null,
      "outputs": []
    },
    {
      "cell_type": "code",
      "source": [
        "# this is me changing the prices to logs.\n",
        "bnb_df['Price_log'] = np.log(bnb_df['Price'])\n",
        "\n",
        "\n",
        "# this is the new density plot.\n",
        "\n",
        "plt.hist(bnb_df['Price_log'], bins = 5, edgecolor='black')\n",
        "plt.ylabel('Price_log')\n",
        "plt.title('Historgram (log)')\n",
        "plt.show()\n",
        "\n",
        "\n",
        "# this is the new kernel plot.\n",
        "\n",
        "bnb_df['Price_log'].plot(kind='density', linewidth=2)\n",
        "plt.ylabel('Price_log')\n",
        "plt.title('Kernel Plot (log)')\n",
        "\n",
        "plt.show()\n",
        "\n",
        "# this is the new boxplot.\n",
        "\n",
        "bnb_df['Price_log'].plot(kind='box')\n",
        "\n",
        "plt.title('Box Plot (log)')\n",
        "plt.show()\n",
        "\n",
        "stats_new = bnb_df['Price_log'].describe()\n",
        "print(stats_new)"
      ],
      "metadata": {
        "id": "4bPBSm1H5U3y"
      },
      "execution_count": null,
      "outputs": []
    },
    {
      "cell_type": "code",
      "source": [
        "## Q3.5\n",
        "\n",
        "plt.figure(figsize=(8,5))\n",
        "\n",
        "plt.scatter(bnb_df['Beds'], bnb_df['Price_log'], alpha=0.5)\n",
        "\n",
        "plt.xlabel('Number of Beds')\n",
        "plt.ylabel('Price (Log)')\n",
        "plt.title('Scatterplot of Log-Transformed Price vs. Beds')\n",
        "\n",
        "plt.show()\n",
        "\n",
        "# I see clearly that there's an upward trend where with an increase in beds, the altered-for-log price also increases.\n",
        "# The average seems to be around the 3-bed range, and the deviation I'd estimate to be around 1, which is pretty standard.\n",
        "\n",
        "grouped_stats = bnb_df.groupby('Beds')['Price'].describe()\n",
        "print(grouped_stats)\n"
      ],
      "metadata": {
        "id": "s8hSXlyG6dcd"
      },
      "execution_count": null,
      "outputs": []
    },
    {
      "cell_type": "code",
      "source": [
        "## Q3.6\n",
        "\n",
        "room_types = bnb_df['Room Type'].unique()\n",
        "property_types = bnb_df['Property Type'].unique()\n",
        "\n",
        "# Color map for room types (you can customize it)\n",
        "colors = plt.cm.get_cmap('tab10', len(room_types))\n",
        "\n",
        "# Marker map for property types (e.g., different shapes)\n",
        "markers = {'Entire home/apt': 'o', 'Private room': 's', 'Shared room': 'D'}\n",
        "\n",
        "# Scatter plot with colors and markers\n",
        "plt.figure(figsize=(10,6))\n",
        "\n",
        "for i, room_type in enumerate(room_types):\n",
        "    for property_type in property_types:\n",
        "        subset = bnb_df[(bnb_df['Room Type'] == room_type) & (bnb_df['Property Type'] == property_type)]\n",
        "        plt.scatter(subset['Beds'], subset['Price_log'],\n",
        "                    label=f'{room_type} - {property_type}',\n",
        "                    color=colors(i),\n",
        "                    marker=markers.get(property_type, 'o'),\n",
        "                    alpha=0.7)\n",
        "\n",
        "# Labels and title\n",
        "plt.xlabel('Number of Beds')\n",
        "plt.ylabel('Log-Transformed Price')\n",
        "plt.title('Scatterplot of Log-Transformed Price vs. Beds')\n",
        "\n",
        "# Add legend\n",
        "plt.legend(title=\"Room Type & Property Type\", bbox_to_anchor=(1.05, 1), loc='upper left')\n",
        "\n",
        "plt.show()\n",
        "\n",
        "grouped_stats = bnb_df.groupby(['Room Type', 'Property Type'])['Price'].describe()\n",
        "print(grouped_stats)"
      ],
      "metadata": {
        "id": "Ybm69wdX78aX"
      },
      "execution_count": null,
      "outputs": []
    },
    {
      "cell_type": "code",
      "source": [
        "## Q3.7\n",
        "\n",
        "import seaborn as sns\n",
        "\n",
        "sns.jointplot(data = bnb_df, x='Beds', y='Price_log', kind='hex')\n",
        "plt.show()"
      ],
      "metadata": {
        "id": "2cFKfiVh8nSY"
      },
      "execution_count": null,
      "outputs": []
    },
    {
      "cell_type": "markdown",
      "metadata": {
        "id": "mn7GDe1hsqbN"
      },
      "source": [
        "**Q4.** This question looks at a time series of the number of active oil drilling rigs in the United States over time. The data comes from the Energy Information Agency.\n",
        "\n",
        "1. Load `./data/drilling_rigs.csv` and examine the data. How many observations? How many variables? Are numeric variables correctly read in by Pandas, or will some variables have to be typecast/coerced? Explain clearly how these data need to be cleaned.\n",
        "2. To convert the `Month` variable to an ordered datetime variable, use `df['time'] = pd.to_datetime(df['Month'], format='mixed')`.\n",
        "3. Let's look at `Active Well Service Rig Count (Number of Rigs)`, which is the total number of rigs over time. Make a line plot of this time series. Describe what you see.\n",
        "4. Instead of levels, we want to look at change over time. Compute the first difference of  `Active Well Service Rig Count (Number of Rigs)` and plot it over time. Describe what you see.\n",
        "5. The first two columns are the number of onshore and offshore rigs, respectively. Melt these columns and plot the resulting series."
      ]
    },
    {
      "cell_type": "code",
      "source": [
        "import numpy as np # Import the numpy package into your workspace\n",
        "import matplotlib.pyplot as plt # Import matplotlib into your workspace\n",
        "import pandas as pd  # Import the pandas package into your workspace\n",
        "import seaborn as sns\n",
        "\n",
        "## Q4.1\n",
        "\n",
        "url = \"https://raw.githubusercontent.com/ezraattisso/ds3001-EDA/refs/heads/main/assignment/data/drilling_rigs.csv\"\n",
        "\n",
        "drilling_df = pd.read_csv(url)\n",
        "\n",
        "drilling_df.head()\n",
        "\n",
        "## The data has several columns which we can't calcualate, due to the unclear grouping of rotary rigs. Thus, I can delete this redundant columns and proceed.\n",
        "\n",
        "\n",
        "drilling_df_new = drilling_df.drop(columns=['Crude Oil Rotary Rigs in Operation, Total (Number of Rigs)', 'Natural Gas Rotary Rigs in Operation, Total (Number of Rigs)', 'Crude Oil and Natural Gas Rotary Rigs in Operation, Horizontal Trajectory (Number of Rigs)', 'Crude Oil and Natural Gas Rotary Rigs in Operation, Directional Trajectory (Number of Rigs)', 'Crude Oil and Natural Gas Rotary Rigs in Operation, Vertical Trajectory (Number of Rigs)'])\n",
        "\n",
        "drilling_df_new.head()\n",
        "\n",
        "## Q4.2\n",
        "\n",
        "drilling_df_new['Month'] = pd.to_datetime(drilling_df_new['Month'], format='mixed')\n",
        "\n",
        "drilling_df_new.head()\n",
        "\n",
        "\n"
      ],
      "metadata": {
        "id": "F63LWtNi82Nn"
      },
      "execution_count": null,
      "outputs": []
    },
    {
      "cell_type": "code",
      "source": [
        "## Q4.3 & 4.4\n",
        "\n",
        "drilling_df_new['Active Well Service Rig Count (Number of Rigs)'] = pd.to_numeric(drilling_df_new['Active Well Service Rig Count (Number of Rigs)'], errors='coerce')\n",
        "\n",
        "drilling_df_new['Rig_Count_Diff'] = drilling_df_new['Active Well Service Rig Count (Number of Rigs)'].diff()\n",
        "\n",
        "plt.figure(figsize=(10,5))\n",
        "\n",
        "# Plotting the first difference.\n",
        "plt.plot(drilling_df_new['Month'], drilling_df_new['Rig_Count_Diff'], linestyle='-', marker='o', color='b', alpha=0.7)\n",
        "\n",
        "plt.xlabel('Date')\n",
        "plt.ylabel('Change in Rig Count')\n",
        "plt.title('First Difference of Active Well Service Rig Count Over Time')\n",
        "plt.axhline(y=0, color='black', linestyle='--', linewidth=1)  # Add a reference line at 0\n",
        "plt.grid(True)\n",
        "\n",
        "plt.show()\n",
        "\n",
        "## For the most part, the data seems to converge around the -250  to 250 rig count range, with a few outliers giving the graph its stretch.\n"
      ],
      "metadata": {
        "id": "nJsw16xMAiTy"
      },
      "execution_count": null,
      "outputs": []
    },
    {
      "cell_type": "code",
      "source": [
        "## Q4.5\n",
        "\n",
        "df_melted = drilling_df_new.melt(id_vars=['Month'], value_vars=['Crude Oil and Natural Gas Rotary Rigs in Operation, Onshore (Number of Rigs)', 'Crude Oil and Natural Gas Rotary Rigs in Operation, Offshore (Number of Rigs)'],\n",
        "                     var_name='Rig Type', value_name='Rig Count')\n",
        "\n",
        "# Display the first few rows\n",
        "print(df_melted.head())\n",
        "\n",
        "plt.plot(df_melted['Month'], df_melted['Rig Count'], linestyle='-', marker='o', color='b', alpha=0.7)\n",
        "\n",
        "plt.xlabel('Date')\n",
        "plt.ylabel('Change in Rig Count')\n",
        "plt.title('Melted DF')\n",
        "plt.axhline(y=0, color='black', linestyle='--', linewidth=1)  # Add a reference line at 0\n",
        "plt.grid(True)\n",
        "\n",
        "plt.show()\n"
      ],
      "metadata": {
        "id": "o7300fXyBLi1"
      },
      "execution_count": null,
      "outputs": []
    }
  ],
  "metadata": {
    "kernelspec": {
      "display_name": "base",
      "language": "python",
      "name": "python3"
    },
    "language_info": {
      "codemirror_mode": {
        "name": "ipython",
        "version": 3
      },
      "file_extension": ".py",
      "mimetype": "text/x-python",
      "name": "python",
      "nbconvert_exporter": "python",
      "pygments_lexer": "ipython3",
      "version": "3.12.2"
    },
    "colab": {
      "provenance": []
    }
  },
  "nbformat": 4,
  "nbformat_minor": 0
}